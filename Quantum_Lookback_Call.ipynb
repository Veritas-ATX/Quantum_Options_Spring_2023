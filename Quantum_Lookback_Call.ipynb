{
 "cells": [
  {
   "cell_type": "markdown",
   "id": "ec2b8fad-9b13-4116-b579-ae1817f1bcc2",
   "metadata": {},
   "source": [
    "# Quantum Version of Fixed Strike Lookback Call Option\n",
    "\n",
    "Can we approx lookback call using multiple vanilla european calls at different time steps?"
   ]
  },
  {
   "cell_type": "markdown",
   "id": "af0390bb-fb98-4127-b5c9-6f3ef3915c53",
   "metadata": {},
   "source": [
    "Benefits to this approach:\n",
    "- Can run multiple small quantum circuits (perhaps in parallel).\n",
    "- Small circuits would be less error prone both in number of gates needed and total qubits on actual hardware.\n",
    "  - For lots of timesteps, getting all of the values for each step could be impractical in total number of qubits (add however many are for prob dist plus add ancillas)\n",
    "- Can simulate timesteps with different underlying uncertainty models fairly easily\n",
    "  - Say the trend is different according to a holiday or season, so the prob model needs to change in those times\n",
    "  \n",
    "Drawbacks:\n",
    "- Takes longer to run if not in parallel\n",
    "- Can be a rough approximation, so not very accurate depending on time steps used\n",
    "  - But so are \"regular\" quantum approaches (at least in \"Option Pricing using Quantum Computers\" from Stamatopoulos et al. and similar work)"
   ]
  },
  {
   "cell_type": "code",
   "execution_count": 1,
   "id": "0ddbdd7f-4462-4995-a1d3-b562ec4bbf7c",
   "metadata": {
    "tags": []
   },
   "outputs": [],
   "source": [
    "import matplotlib.pyplot as plt\n",
    "\n",
    "%matplotlib inline\n",
    "import numpy as np\n",
    "from tqdm import tqdm\n",
    "\n",
    "from qiskit import QuantumCircuit\n",
    "from qiskit.algorithms import IterativeAmplitudeEstimation, EstimationProblem\n",
    "from qiskit.circuit.library import LinearAmplitudeFunction\n",
    "from qiskit_aer.primitives import Sampler\n",
    "from qiskit_finance.circuit.library import LogNormalDistribution\n",
    "from qiskit_finance.applications.estimation import EuropeanCallPricing"
   ]
  },
  {
   "cell_type": "code",
   "execution_count": 2,
   "id": "6b2738dd-1349-4ebf-b8a1-f8171d9e0eca",
   "metadata": {
    "tags": []
   },
   "outputs": [],
   "source": [
    "# Construct Uncertainty model helper function\n",
    "\n",
    "def get_uncertainty_model(t, num_uncertainty_qubits=3, S=2.0, vol=0.4, r=0.0):\n",
    "    # resulting parameters for log-normal distribution\n",
    "    mu = (r - 0.5 * vol**2) * t + np.log(S)\n",
    "    sigma = vol * np.sqrt(t)\n",
    "    mean = np.exp(mu + sigma**2 / 2)\n",
    "    variance = (np.exp(sigma**2) - 1) * np.exp(2 * mu + sigma**2)\n",
    "    stddev = np.sqrt(variance)\n",
    "\n",
    "    # lowest and highest value considered for the spot price; in between, an equidistant discretization is considered.\n",
    "    low = np.maximum(0, mean - 3 * stddev)\n",
    "    high = mean + 3 * stddev\n",
    "\n",
    "    # construct A operator for QAE for the payoff function by\n",
    "    # composing the uncertainty model and the objective\n",
    "    uncertainty_model = LogNormalDistribution(\n",
    "        num_uncertainty_qubits, mu=mu, sigma=sigma**2, bounds=(low, high)\n",
    "    )\n",
    "    return uncertainty_model, low, high"
   ]
  },
  {
   "cell_type": "code",
   "execution_count": 3,
   "id": "91525c0d-1f26-439d-8fad-e8814dd8aad2",
   "metadata": {
    "tags": []
   },
   "outputs": [],
   "source": [
    "# Run Amplitude Estimation helper\n",
    "\n",
    "def get_ae_results(uncert_model, low, high, uncert_q_count=3, K=1.896, scaling_factor=0.25, shots=100):\n",
    "    # set target precision and confidence level\n",
    "    epsilon = 0.01\n",
    "    alpha = 0.05\n",
    "    \n",
    "    # Can save some lines of code by calling Qiskit Finance method here since they have a fast implementation set up for this option\n",
    "    european_call_pricing = EuropeanCallPricing(\n",
    "        num_state_qubits=uncert_q_count,\n",
    "        strike_price=K,\n",
    "        rescaling_factor=scaling_factor,\n",
    "        bounds=(low, high),\n",
    "        uncertainty_model=uncert_model,\n",
    "    )\n",
    "    problem = european_call_pricing.to_estimation_problem()\n",
    "    # construct amplitude estimation\n",
    "    ae = IterativeAmplitudeEstimation(\n",
    "        epsilon_target=epsilon, alpha=alpha, sampler=Sampler(run_options={\"shots\": shots})\n",
    "    )\n",
    "    result = ae.estimate(problem)\n",
    "    expected_payoff = european_call_pricing.interpret(result)\n",
    "    conf_int = np.array(result.confidence_interval_processed)\n",
    "    return expected_payoff, conf_int"
   ]
  },
  {
   "cell_type": "code",
   "execution_count": 4,
   "id": "563c0cd2-969d-4c7c-9db9-8e987103a1fb",
   "metadata": {
    "tags": []
   },
   "outputs": [
    {
     "name": "stdout",
     "output_type": "stream",
     "text": [
      "Lookback Option Expected Payoff: 0.1672628054381453\n",
      "Payoff 95% CI w/ eps 0.01: [0.16237729 0.17214833]\n",
      "Lookback Option Day of Max Payoff: 40\n"
     ]
    }
   ],
   "source": [
    "# Run over the time steps, get maximum payoff\n",
    "# Let's say 40 days, w/ time step = 1 day\n",
    "T = 40 / 365\n",
    "dt = 1 / 365\n",
    "t = dt\n",
    "results = []\n",
    "conf_list = []\n",
    "for i in range(40):\n",
    "    um, low, high = get_uncertainty_model(t)\n",
    "    res, conf = get_ae_results(um, low, high)\n",
    "    results.append(res)\n",
    "    conf_list.append(conf)\n",
    "    t += dt\n",
    "results = np.array(results)\n",
    "print(f\"Lookback Option Expected Payoff: {np.amax(results)}\")\n",
    "print(f\"Payoff 95% CI w/ eps 0.01: {conf_list[np.argmax(results)]}\")\n",
    "print(f\"Lookback Option Day of Max Payoff: {np.argmax(results)+1}\")"
   ]
  },
  {
   "cell_type": "markdown",
   "id": "f017a415-22ed-4a00-b625-444fc28d8819",
   "metadata": {},
   "source": [
    "Note that the above code typically selects a max payoff typically at or near the end of the time period (40th day). This is to be expected for this probability model (lognormal distribution in line with the Black Scholes model and its typical assumptions such as constant volatility). One would expect that given identical brownian motion procedures, the price of the underlying asset would most likely achieve a maximum at the end of the time period since it has had the most opportunity to grow in value. \n",
    "\n",
    "But what if the distributions for the stock value on each day are different? Whichever has the highest mean value is what one would expect to be selected for the lookback option. Let's look at this below."
   ]
  },
  {
   "cell_type": "code",
   "execution_count": 5,
   "id": "8391b256-4bc3-4862-a981-2ae5ed240717",
   "metadata": {
    "tags": []
   },
   "outputs": [
    {
     "name": "stdout",
     "output_type": "stream",
     "text": [
      "Lookback Option Expected Payoff: 0.23661151492244598\n",
      "Payoff 95% CI w/ eps 0.01: [0.2261618  0.24706123]\n",
      "Lookback Option Day of Max Payoff: 22\n"
     ]
    }
   ],
   "source": [
    "# Now experiment with having say two consecutive days (e.g. a weekend/holiday) with a different uncertainty model\n",
    "# To detect it with a lookback call, let's set days 21 & 22 to have 90% volatility (to have more room for value to go up/down)\n",
    "\n",
    "T = 40 / 365\n",
    "dt = 1 / 365\n",
    "t = dt\n",
    "results = []\n",
    "conf_list = []\n",
    "for i in range(40):\n",
    "    if i == 20 or i == 21:  # These are really days 21 and 22\n",
    "        um, low, high = get_uncertainty_model(t, vol=0.9)\n",
    "    else:\n",
    "        um, low, high = get_uncertainty_model(t)  # Still at default 40% vol\n",
    "    res, conf = get_ae_results(um, low, high)\n",
    "    conf_list.append(conf)\n",
    "    results.append(res)\n",
    "    t += dt\n",
    "results = np.array(results)\n",
    "print(f\"Lookback Option Expected Payoff: {np.amax(results)}\")\n",
    "print(f\"Payoff 95% CI w/ eps 0.01: {conf_list[np.argmax(results)]}\")\n",
    "print(f\"Lookback Option Day of Max Payoff: {np.argmax(results)+1}\")"
   ]
  },
  {
   "cell_type": "markdown",
   "id": "b180d020-0c5a-446b-85a1-96f58a7c94c8",
   "metadata": {},
   "source": [
    "Now that different distributions have been used, it can be more easily seen how a lookback options differs from a standard European option. It is not enough to just simulate the distrbution at the end of the maturity period. Therefore, either a large quantum circuit is needed, or several smaller circuits are needed (as shown here) to discretize the time periods. "
   ]
  },
  {
   "cell_type": "code",
   "execution_count": null,
   "id": "7c27f373-e4f1-460a-a78d-46876b8dfe3e",
   "metadata": {},
   "outputs": [],
   "source": []
  }
 ],
 "metadata": {
  "kernelspec": {
   "display_name": "Python 3 (ipykernel)",
   "language": "python",
   "name": "python3"
  },
  "language_info": {
   "codemirror_mode": {
    "name": "ipython",
    "version": 3
   },
   "file_extension": ".py",
   "mimetype": "text/x-python",
   "name": "python",
   "nbconvert_exporter": "python",
   "pygments_lexer": "ipython3",
   "version": "3.10.8"
  },
  "widgets": {
   "application/vnd.jupyter.widget-state+json": {
    "state": {},
    "version_major": 2,
    "version_minor": 0
   }
  }
 },
 "nbformat": 4,
 "nbformat_minor": 5
}
