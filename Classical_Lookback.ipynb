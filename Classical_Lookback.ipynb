{
 "cells": [
  {
   "cell_type": "markdown",
   "id": "e5b163b1-c9f6-4da5-8388-cc0571fde6de",
   "metadata": {
    "tags": []
   },
   "source": [
    "# Classical (Monte Carlo) Version of Fixed Strike Lookback Call Option\n",
    "\n",
    "Approximating lookback option payoff using multiple vanilla european calls at different time steps."
   ]
  },
  {
   "cell_type": "markdown",
   "id": "208104fc-d7d5-4e43-be4c-2cad3bf601b1",
   "metadata": {},
   "source": [
    "### Call Version:"
   ]
  },
  {
   "cell_type": "code",
   "execution_count": 3,
   "id": "72ad7e37-f12c-4769-a458-1580a2442fa1",
   "metadata": {
    "tags": []
   },
   "outputs": [],
   "source": [
    "# Classical Version w/out using new idea\n",
    "# (this is a sanity check with Qiskit code, quantum lookback version implemented in other notebooks)\n",
    "# Adapted from: https://www.codearmo.com/blog/pricing-options-monte-carlo-simulation-python\n",
    "import numpy as np\n",
    "import matplotlib.pyplot as plt\n",
    "from scipy.stats import norm\n",
    "\n",
    "# NOTE: values below chosen to reflect small values for ease of comparison with quantum circuit\n",
    "def get_price_call(T, S=2.0, K=1.896, r=0.0, q=0.0, sigma=0.4, steps=100, N=100000):\n",
    "    \"\"\"\n",
    "    Inputs\n",
    "    #S = Current stock Price\n",
    "    #K = Strike Price\n",
    "    #T = Time to maturity 1 year = 1, 1 months = 1/12\n",
    "    #r = risk free interest rate\n",
    "    #q = dividend yield\n",
    "    # sigma = volatility \n",
    "    \n",
    "    Output\n",
    "    # [steps,N] Matrix of asset paths \n",
    "    \"\"\"\n",
    "    dt = T / steps\n",
    "    ST = np.log(S) +  np.cumsum(((r - q - (sigma**2)/2)*dt + sigma * np.sqrt(dt) * np.random.normal(size=(steps, N))), axis=0)\n",
    "    paths = np.exp(ST)\n",
    "    payoffs = np.maximum(paths[-1]-K, 0)\n",
    "    option_price = np.mean(payoffs)*np.exp(-r*T)\n",
    "    return option_price"
   ]
  },
  {
   "cell_type": "code",
   "execution_count": 4,
   "id": "dc065755-d34e-4f3e-bb16-4d49274480a5",
   "metadata": {
    "tags": []
   },
   "outputs": [
    {
     "name": "stderr",
     "output_type": "stream",
     "text": [
      "100%|██████████| 40/40 [00:17<00:00,  2.23it/s]"
     ]
    },
    {
     "name": "stdout",
     "output_type": "stream",
     "text": [
      "Lookback Option Expected Payoff: 0.1637881820120768\n",
      "Lookback Option Day of Max Payoff: 40\n"
     ]
    },
    {
     "name": "stderr",
     "output_type": "stream",
     "text": [
      "\n"
     ]
    }
   ],
   "source": [
    "# Run over the time steps, get maximum payoff\n",
    "# Let's say 40 days, w/ time step = 1 day\n",
    "dt = 1 / 365\n",
    "t = dt\n",
    "results = []\n",
    "for i in range(40):\n",
    "    price = get_price_call(t)\n",
    "    results.append(price)\n",
    "    t+=dt\n",
    "results = np.array(results)\n",
    "print(f\"Lookback Option Expected Payoff: {np.amax(results)}\")\n",
    "print(f\"Lookback Option Day of Max Payoff: {np.argmax(results)+1}\")"
   ]
  },
  {
   "cell_type": "code",
   "execution_count": 7,
   "id": "91082d29-cd68-4793-a7e6-6a99498d51ac",
   "metadata": {
    "tags": []
   },
   "outputs": [
    {
     "name": "stdout",
     "output_type": "stream",
     "text": [
      "Lookback Option Expected Payoff: 0.22668335138458265\n",
      "Lookback Option Day of Max Payoff: 22\n"
     ]
    }
   ],
   "source": [
    "# Same as before, but now we vary the volatility for a pair of consecutive days\n",
    "dt = 1 / 365\n",
    "t = dt\n",
    "results = []\n",
    "for i in range(40):\n",
    "    if i == 20 or i == 21:\n",
    "        price = get_price_call(t, sigma=0.9)\n",
    "    else:\n",
    "        price = get_price_call(t)  # Still 40% vol\n",
    "    results.append(price)\n",
    "    t+=dt\n",
    "results = np.array(results)\n",
    "print(f\"Lookback Option Expected Payoff: {np.amax(results)}\")\n",
    "print(f\"Lookback Option Day of Max Payoff: {np.argmax(results)+1}\")"
   ]
  },
  {
   "cell_type": "markdown",
   "id": "c00ca823-e77d-4307-a7d4-c1c604d5a52d",
   "metadata": {},
   "source": [
    "### Put Version:"
   ]
  },
  {
   "cell_type": "code",
   "execution_count": 11,
   "id": "fa6fa2ae-d491-46ce-bcf4-f214c4358172",
   "metadata": {
    "tags": []
   },
   "outputs": [],
   "source": [
    "def get_price_put(T, S=2.0, K=2.1, r=0.0, q=0.0, sigma=0.4, steps=100, N=100000):\n",
    "    \"\"\"\n",
    "    Inputs\n",
    "    #S = Current stock Price\n",
    "    #K = Strike Price\n",
    "    #T = Time to maturity 1 year = 1, 1 months = 1/12\n",
    "    #r = risk free interest rate\n",
    "    #q = dividend yield\n",
    "    # sigma = volatility \n",
    "    \n",
    "    Output\n",
    "    # [steps,N] Matrix of asset paths \n",
    "    \"\"\"\n",
    "    dt = T / steps\n",
    "    ST = np.log(S) +  np.cumsum(((r - q - (sigma**2)/2)*dt + sigma * np.sqrt(dt) * np.random.normal(size=(steps, N))), axis=0)\n",
    "    paths = np.exp(ST)\n",
    "    payoffs = np.maximum(K-paths[-1], 0)\n",
    "    option_price = np.mean(payoffs)*np.exp(-r*T)\n",
    "    return option_price"
   ]
  },
  {
   "cell_type": "code",
   "execution_count": 14,
   "id": "ada59f9c-4b5e-4c13-9598-2fe7e6e30079",
   "metadata": {
    "tags": []
   },
   "outputs": [
    {
     "name": "stdout",
     "output_type": "stream",
     "text": [
      "Lookback Option Expected Payoff: 0.16620445270284767\n",
      "Lookback Option Day of Max Payoff: 40\n"
     ]
    }
   ],
   "source": [
    "# Run over the time steps, get maximum payoff\n",
    "# Let's say 40 days, w/ time step = 1 day\n",
    "dt = 1 / 365\n",
    "t = dt\n",
    "results = []\n",
    "for i in range(40):\n",
    "    price = get_price_put(t)\n",
    "    results.append(price)\n",
    "    t+=dt\n",
    "results = np.array(results)\n",
    "print(f\"Lookback Option Expected Payoff: {np.amax(results)}\")\n",
    "print(f\"Lookback Option Day of Max Payoff: {np.argmax(results)+1}\")"
   ]
  },
  {
   "cell_type": "code",
   "execution_count": 15,
   "id": "7d8f2e47-a1e6-459d-9456-089ba4a52771",
   "metadata": {
    "tags": []
   },
   "outputs": [
    {
     "name": "stdout",
     "output_type": "stream",
     "text": [
      "Lookback Option Expected Payoff: 0.23372084145425698\n",
      "Lookback Option Day of Max Payoff: 22\n"
     ]
    }
   ],
   "source": [
    "# Put version of the consecutive days difference, this time w/ vol=0.1\n",
    "dt = 1 / 365\n",
    "t = dt\n",
    "results = []\n",
    "for i in range(40):\n",
    "    if i == 20 or i == 21:\n",
    "        price = get_price_put(t, sigma=0.9)\n",
    "    else:\n",
    "        price = get_price_put(t, sigma=0.4)\n",
    "    results.append(price)\n",
    "    t+=dt\n",
    "results = np.array(results)\n",
    "print(f\"Lookback Option Expected Payoff: {np.amax(results)}\")\n",
    "print(f\"Lookback Option Day of Max Payoff: {np.argmax(results)+1}\")"
   ]
  },
  {
   "cell_type": "code",
   "execution_count": null,
   "id": "7c5c3cba-8a0c-49dd-bfab-2c43b10ed4db",
   "metadata": {},
   "outputs": [],
   "source": []
  }
 ],
 "metadata": {
  "kernelspec": {
   "display_name": "Python 3 (ipykernel)",
   "language": "python",
   "name": "python3"
  },
  "language_info": {
   "codemirror_mode": {
    "name": "ipython",
    "version": 3
   },
   "file_extension": ".py",
   "mimetype": "text/x-python",
   "name": "python",
   "nbconvert_exporter": "python",
   "pygments_lexer": "ipython3",
   "version": "3.10.8"
  },
  "widgets": {
   "application/vnd.jupyter.widget-state+json": {
    "state": {},
    "version_major": 2,
    "version_minor": 0
   }
  }
 },
 "nbformat": 4,
 "nbformat_minor": 5
}
