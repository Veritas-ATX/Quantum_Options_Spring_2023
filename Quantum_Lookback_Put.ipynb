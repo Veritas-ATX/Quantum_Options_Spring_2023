{
 "cells": [
  {
   "cell_type": "markdown",
   "id": "ec2b8fad-9b13-4116-b579-ae1817f1bcc2",
   "metadata": {},
   "source": [
    "# Quantum Version of Fixed Strike Lookback Put Option\n",
    "\n",
    "Note that more in-depth explanations please see the lookback call notebook."
   ]
  },
  {
   "cell_type": "code",
   "execution_count": 1,
   "id": "0ddbdd7f-4462-4995-a1d3-b562ec4bbf7c",
   "metadata": {
    "tags": []
   },
   "outputs": [],
   "source": [
    "import matplotlib.pyplot as plt\n",
    "\n",
    "%matplotlib inline\n",
    "import numpy as np\n",
    "from tqdm import tqdm\n",
    "\n",
    "from qiskit import QuantumCircuit\n",
    "from qiskit.algorithms import IterativeAmplitudeEstimation, EstimationProblem\n",
    "from qiskit.circuit.library import LinearAmplitudeFunction\n",
    "from qiskit_aer.primitives import Sampler\n",
    "from qiskit_finance.circuit.library import LogNormalDistribution"
   ]
  },
  {
   "cell_type": "code",
   "execution_count": 2,
   "id": "6b2738dd-1349-4ebf-b8a1-f8171d9e0eca",
   "metadata": {
    "tags": []
   },
   "outputs": [],
   "source": [
    "# Construct Uncertainty model helper function\n",
    "\n",
    "def get_uncertainty_model(T, num_uncertainty_qubits=3, S=2.0, vol=0.4, r=0.0):\n",
    "    # resulting parameters for log-normal distribution\n",
    "    mu = (r - 0.5 * vol**2) * T + np.log(S)\n",
    "    sigma = vol * np.sqrt(T)\n",
    "    mean = np.exp(mu + sigma**2 / 2)\n",
    "    variance = (np.exp(sigma**2) - 1) * np.exp(2 * mu + sigma**2)\n",
    "    stddev = np.sqrt(variance)\n",
    "\n",
    "    # lowest and highest value considered for the spot price; in between, an equidistant discretization is considered.\n",
    "    low = np.maximum(0, mean - 3 * stddev)\n",
    "    high = mean + 3 * stddev\n",
    "\n",
    "    # construct A operator for QAE for the payoff function by\n",
    "    # composing the uncertainty model and the objective\n",
    "    uncertainty_model = LogNormalDistribution(\n",
    "        num_uncertainty_qubits, mu=mu, sigma=sigma**2, bounds=(low, high)\n",
    "    )\n",
    "    return uncertainty_model, low, high"
   ]
  },
  {
   "cell_type": "code",
   "execution_count": 10,
   "id": "91525c0d-1f26-439d-8fad-e8814dd8aad2",
   "metadata": {
    "tags": []
   },
   "outputs": [],
   "source": [
    "# Run Amplitude Estimation helper\n",
    "\n",
    "def get_ae_results(uncertainty_model, low, high, num_uncertainty_qubits=3, strike_price=2.1, rescaling_factor=0.25, shots=100):\n",
    "    # setup piecewise linear objective fcuntion\n",
    "    breakpoints = [low, strike_price]\n",
    "    slopes = [-1, 0]\n",
    "    offsets = [strike_price - low, 0]\n",
    "    f_min = 0\n",
    "    f_max = strike_price - low\n",
    "    european_put_objective = LinearAmplitudeFunction(\n",
    "        num_uncertainty_qubits,\n",
    "        slopes,offsets,\n",
    "        domain=(low, high),\n",
    "        image=(f_min, f_max),\n",
    "        breakpoints=breakpoints,\n",
    "        rescaling_factor=rescaling_factor,\n",
    "    )\n",
    "\n",
    "    # construct A operator for QAE for the payoff function by\n",
    "    # composing the uncertainty model and the objective\n",
    "    european_put = european_put_objective.compose(uncertainty_model, front=True)\n",
    "    \n",
    "    # set target precision and confidence level\n",
    "    epsilon = 0.01\n",
    "    alpha = 0.05\n",
    "\n",
    "    problem = EstimationProblem(\n",
    "        state_preparation=european_put,\n",
    "        objective_qubits=[num_uncertainty_qubits],\n",
    "        post_processing=european_put_objective.post_processing,\n",
    "    )\n",
    "    # construct amplitude estimation\n",
    "    ae = IterativeAmplitudeEstimation(\n",
    "        epsilon_target=epsilon, alpha=alpha, sampler=Sampler(run_options={\"shots\": shots})\n",
    "    )\n",
    "    result = ae.estimate(problem)\n",
    "    expected_payoff = result.estimation_processed\n",
    "    conf_int = np.array(result.confidence_interval_processed)\n",
    "    return expected_payoff, conf_int"
   ]
  },
  {
   "cell_type": "code",
   "execution_count": 12,
   "id": "563c0cd2-969d-4c7c-9db9-8e987103a1fb",
   "metadata": {
    "tags": []
   },
   "outputs": [
    {
     "name": "stdout",
     "output_type": "stream",
     "text": [
      "Lookback Option Expected Payoff: 0.16617461196111832\n",
      "Payoff 95% CI w/ eps 0.01: [0.16131107 0.17103815]\n",
      "Lookback Option Day of Max Payoff: 40\n"
     ]
    }
   ],
   "source": [
    "# Note that maximum payoff here occurs when the minimum spot price is achieved\n",
    "\n",
    "# Run over the time steps, get maximum payoff\n",
    "# Let's say 40 days, w/ time step = 1 day\n",
    "T = 40 / 365\n",
    "dt = 1 / 365\n",
    "t = dt\n",
    "results = []\n",
    "conf_list = []\n",
    "for i in range(40):\n",
    "    um, low, high = get_uncertainty_model(t)\n",
    "    res, conf = get_ae_results(um, low, high)\n",
    "    results.append(res)\n",
    "    conf_list.append(conf)\n",
    "    t += dt\n",
    "results = np.array(results)\n",
    "print(f\"Lookback Option Expected Payoff: {np.amax(results)}\")\n",
    "print(f\"Payoff 95% CI w/ eps 0.01: {conf_list[np.argmax(results)]}\")\n",
    "print(f\"Lookback Option Day of Max Payoff: {np.argmax(results)+1}\")"
   ]
  },
  {
   "cell_type": "code",
   "execution_count": 13,
   "id": "f33734bd-0cc4-4ce7-ab72-ca4a5957d4f3",
   "metadata": {
    "tags": []
   },
   "outputs": [
    {
     "name": "stdout",
     "output_type": "stream",
     "text": [
      "Lookback Option Expected Payoff: 0.24512701882480292\n",
      "Payoff 95% CI w/ eps 0.01: [0.2368079  0.25344614]\n",
      "Lookback Option Day of Max Payoff: 22\n"
     ]
    }
   ],
   "source": [
    "# Now experiment with having say two consecutive days (e.g. a weekend/holiday) with a different uncertainty model\n",
    "# To detect it with a lookback put, let's set days 20 & 21 to have 90% volatility\n",
    "\n",
    "# Run over the time steps, get maximum payoff\n",
    "# Let's say 40 days, w/ time step = 1 day\n",
    "T = 40 / 365\n",
    "dt = 1 / 365\n",
    "t = dt\n",
    "results = []\n",
    "conf_list = []\n",
    "for i in range(40):\n",
    "    if i == 20 or i == 21:\n",
    "        um, low, high = get_uncertainty_model(t, vol=0.9)\n",
    "    else:\n",
    "        um, low, high = get_uncertainty_model(t)\n",
    "    res, conf = get_ae_results(um, low, high)\n",
    "    results.append(res)\n",
    "    conf_list.append(conf)\n",
    "    t += dt\n",
    "results = np.array(results)\n",
    "print(f\"Lookback Option Expected Payoff: {np.amax(results)}\")\n",
    "print(f\"Payoff 95% CI w/ eps 0.01: {conf_list[np.argmax(results)]}\")\n",
    "print(f\"Lookback Option Day of Max Payoff: {np.argmax(results)+1}\")"
   ]
  },
  {
   "cell_type": "code",
   "execution_count": null,
   "id": "546efe72-3756-4998-8e3b-d1b939967dbe",
   "metadata": {},
   "outputs": [],
   "source": []
  }
 ],
 "metadata": {
  "kernelspec": {
   "display_name": "Python 3 (ipykernel)",
   "language": "python",
   "name": "python3"
  },
  "language_info": {
   "codemirror_mode": {
    "name": "ipython",
    "version": 3
   },
   "file_extension": ".py",
   "mimetype": "text/x-python",
   "name": "python",
   "nbconvert_exporter": "python",
   "pygments_lexer": "ipython3",
   "version": "3.10.8"
  },
  "widgets": {
   "application/vnd.jupyter.widget-state+json": {
    "state": {},
    "version_major": 2,
    "version_minor": 0
   }
  }
 },
 "nbformat": 4,
 "nbformat_minor": 5
}
